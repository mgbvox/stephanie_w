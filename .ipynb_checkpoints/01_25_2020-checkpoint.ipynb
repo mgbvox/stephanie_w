{
 "cells": [
  {
   "cell_type": "code",
   "execution_count": 1,
   "metadata": {},
   "outputs": [
    {
     "name": "stdout",
     "output_type": "stream",
     "text": [
      "Populating the interactive namespace from numpy and matplotlib\n"
     ]
    }
   ],
   "source": [
    "%pylab inline"
   ]
  },
  {
   "cell_type": "code",
   "execution_count": 24,
   "metadata": {},
   "outputs": [
    {
     "name": "stdout",
     "output_type": "stream",
     "text": [
      "[[1 2]\n",
      " [8 6]]\n"
     ]
    }
   ],
   "source": [
    "x = np.random.randint(0,10,(2,2))\n",
    "print(x)"
   ]
  },
  {
   "cell_type": "code",
   "execution_count": 26,
   "metadata": {},
   "outputs": [
    {
     "name": "stdout",
     "output_type": "stream",
     "text": [
      "1\n",
      "2\n",
      "8\n",
      "6\n"
     ]
    }
   ],
   "source": [
    "for item in x:\n",
    "    for inner_item in item:\n",
    "        print(inner_item)"
   ]
  },
  {
   "cell_type": "code",
   "execution_count": null,
   "metadata": {},
   "outputs": [],
   "source": []
  },
  {
   "cell_type": "code",
   "execution_count": 27,
   "metadata": {},
   "outputs": [
    {
     "name": "stdout",
     "output_type": "stream",
     "text": [
      "0\n",
      "1\n",
      "2\n",
      "3\n",
      "4\n",
      "5\n",
      "6\n",
      "7\n",
      "8\n",
      "9\n",
      "10\n",
      "11\n",
      "12\n",
      "13\n",
      "14\n",
      "15\n",
      "16\n",
      "17\n",
      "18\n",
      "19\n",
      "20\n",
      "21\n",
      "22\n",
      "23\n",
      "24\n",
      "25\n",
      "26\n",
      "27\n",
      "28\n",
      "29\n",
      "30\n",
      "31\n",
      "32\n",
      "33\n",
      "34\n",
      "35\n",
      "36\n",
      "37\n",
      "38\n",
      "39\n",
      "40\n",
      "41\n",
      "42\n",
      "43\n",
      "44\n",
      "45\n",
      "46\n",
      "47\n",
      "48\n",
      "49\n",
      "50\n",
      "51\n",
      "52\n",
      "53\n",
      "54\n",
      "55\n",
      "56\n",
      "57\n",
      "58\n",
      "59\n",
      "60\n",
      "61\n",
      "62\n",
      "63\n",
      "64\n",
      "65\n",
      "66\n",
      "67\n",
      "68\n",
      "69\n",
      "70\n",
      "71\n",
      "72\n",
      "73\n",
      "74\n",
      "75\n",
      "76\n",
      "77\n",
      "78\n",
      "79\n",
      "80\n",
      "81\n",
      "82\n",
      "83\n",
      "84\n",
      "85\n",
      "86\n",
      "87\n",
      "88\n",
      "89\n",
      "90\n",
      "91\n",
      "92\n",
      "93\n",
      "94\n",
      "95\n",
      "96\n",
      "97\n",
      "98\n",
      "99\n",
      "100\n"
     ]
    }
   ],
   "source": [
    "end = 100\n",
    "\n",
    "curr = 0\n",
    "\n",
    "while curr <= end:\n",
    "    print(curr)\n",
    "    curr += 1"
   ]
  },
  {
   "cell_type": "code",
   "execution_count": 28,
   "metadata": {},
   "outputs": [],
   "source": []
  },
  {
   "cell_type": "code",
   "execution_count": 29,
   "metadata": {},
   "outputs": [
    {
     "name": "stdout",
     "output_type": "stream",
     "text": [
      "[0, 1, 4, 9, 16, 25, 36, 49, 64, 81, 100, 121, 144, 169, 196, 225, 256, 289, 324, 361, 400, 441, 484, 529, 576, 625, 676, 729, 784, 841, 900, 961, 1024, 1089, 1156, 1225, 1296, 1369, 1444, 1521, 1600, 1681, 1764, 1849, 1936, 2025, 2116, 2209, 2304, 2401, 2500, 2601, 2704, 2809, 2916, 3025, 3136, 3249, 3364, 3481, 3600, 3721, 3844, 3969, 4096, 4225, 4356, 4489, 4624, 4761, 4900, 5041, 5184, 5329, 5476, 5625, 5776, 5929, 6084, 6241, 6400, 6561, 6724, 6889, 7056, 7225, 7396, 7569, 7744, 7921, 8100, 8281, 8464, 8649, 8836, 9025, 9216, 9409, 9604, 9801]\n"
     ]
    }
   ],
   "source": [
    "l = range(100)\n",
    "\n",
    "squares = []\n",
    "\n",
    "for i in l:\n",
    "    squares.append(i**2)\n",
    "    \n",
    "print(squares)"
   ]
  },
  {
   "cell_type": "code",
   "execution_count": 31,
   "metadata": {},
   "outputs": [
    {
     "name": "stdout",
     "output_type": "stream",
     "text": [
      "[0, 1, 4, 9, 16, 25, 36, 49, 64, 81, 100, 121, 144, 169, 196, 225, 256, 289, 324, 361, 400, 441, 484, 529, 576, 625, 676, 729, 784, 841, 900, 961, 1024, 1089, 1156, 1225, 1296, 1369, 1444, 1521, 1600, 1681, 1764, 1849, 1936, 2025, 2116, 2209, 2304, 2401, 2500, 2601, 2704, 2809, 2916, 3025, 3136, 3249, 3364, 3481, 3600, 3721, 3844, 3969, 4096, 4225, 4356, 4489, 4624, 4761, 4900, 5041, 5184, 5329, 5476, 5625, 5776, 5929, 6084, 6241, 6400, 6561, 6724, 6889, 7056, 7225, 7396, 7569, 7744, 7921, 8100, 8281, 8464, 8649, 8836, 9025, 9216, 9409, 9604, 9801]\n"
     ]
    }
   ],
   "source": [
    "#List comprehension (compare with above)\n",
    "\n",
    "print([i**2 for i in range(100)])"
   ]
  },
  {
   "cell_type": "code",
   "execution_count": 43,
   "metadata": {},
   "outputs": [
    {
     "name": "stdout",
     "output_type": "stream",
     "text": [
      "L 76 77 M\n",
      "o 111 112 p\n",
      "r 114 115 s\n",
      "e 101 102 f\n",
      "m 109 110 n\n",
      "  32 33 !\n",
      "I 73 74 J\n",
      "p 112 113 q\n",
      "s 115 116 t\n",
      "u 117 118 v\n",
      "m 109 110 n\n",
      "  32 33 !\n",
      "i 105 106 j\n",
      "s 115 116 t\n",
      "  32 33 !\n",
      "s 115 116 t\n",
      "i 105 106 j\n",
      "m 109 110 n\n",
      "p 112 113 q\n",
      "l 108 109 m\n",
      "y 121 122 z\n",
      "  32 33 !\n",
      "d 100 101 e\n",
      "u 117 118 v\n",
      "m 109 110 n\n",
      "m 109 110 n\n",
      "y 121 122 z\n",
      "  32 33 !\n",
      "t 116 117 u\n",
      "e 101 102 f\n",
      "x 120 121 y\n",
      "t 116 117 u\n",
      "  32 33 !\n",
      "o 111 112 p\n",
      "f 102 103 g\n",
      "  32 33 !\n",
      "t 116 117 u\n",
      "h 104 105 i\n",
      "e 101 102 f\n",
      "  32 33 !\n",
      "p 112 113 q\n",
      "r 114 115 s\n",
      "i 105 106 j\n",
      "n 110 111 o\n",
      "t 116 117 u\n",
      "i 105 106 j\n",
      "n 110 111 o\n",
      "g 103 104 h\n",
      "  32 33 !\n",
      "a 97 98 b\n",
      "n 110 111 o\n",
      "d 100 101 e\n",
      "  32 33 !\n",
      "t 116 117 u\n",
      "y 121 122 z\n",
      "p 112 113 q\n",
      "e 101 102 f\n",
      "s 115 116 t\n",
      "e 101 102 f\n",
      "t 116 117 u\n",
      "t 116 117 u\n",
      "i 105 106 j\n",
      "n 110 111 o\n",
      "g 103 104 h\n",
      "  32 33 !\n",
      "i 105 106 j\n",
      "n 110 111 o\n",
      "d 100 101 e\n",
      "u 117 118 v\n",
      "s 115 116 t\n",
      "t 116 117 u\n",
      "r 114 115 s\n",
      "y 121 122 z\n",
      ". 46 47 /\n"
     ]
    }
   ],
   "source": [
    "s = \"Lorem Ipsum is simply dummy text of the printing and typesetting industry.\"\n",
    "for char in s:\n",
    "    print(char, ord(char), ord(char)+1, chr(ord(char)+1))"
   ]
  },
  {
   "cell_type": "code",
   "execution_count": 48,
   "metadata": {},
   "outputs": [],
   "source": [
    "s_split = s.split()"
   ]
  },
  {
   "cell_type": "code",
   "execution_count": 57,
   "metadata": {},
   "outputs": [
    {
     "name": "stdout",
     "output_type": "stream",
     "text": [
      "\"Lorem\" is too short.\n",
      "\"Ipsum\" is too short.\n",
      "\"is\" is too short.\n",
      "\"dummy\" is too short.\n",
      "\"text\" is too short.\n",
      "\"of\" is too short.\n",
      "\"the\" is too short.\n",
      "\"and\" is too short.\n",
      "['simply', 'printing', 'typesetting', 'industry.']\n"
     ]
    }
   ],
   "source": [
    "long_words = []\n",
    "for i in s_split:\n",
    "    if len(i) > 5:\n",
    "        long_words.append(i)\n",
    "    else:\n",
    "        print(f'\"{i}\" is too short.')\n",
    "print(long_words)"
   ]
  },
  {
   "cell_type": "code",
   "execution_count": 61,
   "metadata": {},
   "outputs": [],
   "source": [
    "lines = None\n",
    "with open('RJ.txt') as f:\n",
    "    lines = f.readlines()"
   ]
  },
  {
   "cell_type": "code",
   "execution_count": 85,
   "metadata": {},
   "outputs": [],
   "source": [
    "words = []\n",
    "for line in lines:\n",
    "    split = line.split()\n",
    "    for item in split:\n",
    "        words.append(item.lower())"
   ]
  },
  {
   "cell_type": "code",
   "execution_count": 87,
   "metadata": {},
   "outputs": [],
   "source": [
    "import pandas as pd"
   ]
  },
  {
   "cell_type": "code",
   "execution_count": 92,
   "metadata": {},
   "outputs": [
    {
     "data": {
      "text/plain": [
       "the        241\n",
       "and        217\n",
       "i          196\n",
       "a          157\n",
       "of         156\n",
       "          ... \n",
       "rooteth      1\n",
       "are:         1\n",
       "heels,       1\n",
       "own,         1\n",
       "taste        1\n",
       "Length: 2639, dtype: int64"
      ]
     },
     "execution_count": 92,
     "metadata": {},
     "output_type": "execute_result"
    }
   ],
   "source": [
    "pd.Series(words).value_counts()"
   ]
  },
  {
   "cell_type": "code",
   "execution_count": null,
   "metadata": {},
   "outputs": [],
   "source": []
  }
 ],
 "metadata": {
  "kernelspec": {
   "display_name": "data_science",
   "language": "python",
   "name": "data_science"
  },
  "language_info": {
   "codemirror_mode": {
    "name": "ipython",
    "version": 3
   },
   "file_extension": ".py",
   "mimetype": "text/x-python",
   "name": "python",
   "nbconvert_exporter": "python",
   "pygments_lexer": "ipython3",
   "version": "3.6.7"
  }
 },
 "nbformat": 4,
 "nbformat_minor": 2
}
